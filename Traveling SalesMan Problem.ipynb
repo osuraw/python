{
 "cells": [
  {
   "cell_type": "code",
   "execution_count": 34,
   "metadata": {},
   "outputs": [
    {
     "name": "stdout",
     "output_type": "stream",
     "text": [
      "Number of Cities 2 Stortest path: 0-1-0 cost: 34\n",
      "Number of Cities 3 Stortest path: 0-1-2-0 cost: 51\n",
      "Number of Cities 4 Stortest path: 1-0-3-2-1 cost: 94\n",
      "Number of Cities 5 Stortest path: 0-3-2-1-4-0 cost: 108\n",
      "Number of Cities 6 Stortest path: 5-1-2-3-0-4-5 cost: 90\n",
      "Number of Cities 7 Stortest path: 4-2-1-6-0-3-5-4 cost: 117\n",
      "Number of Cities 8 Stortest path: 1-0-6-5-2-7-4-3-1 cost: 97\n",
      "Number of Cities 9 Stortest path: 5-2-8-4-1-0-6-3-7-5 cost: 137\n",
      "Number of Cities 10 Stortest path: 0-4-6-7-5-3-8-1-2-9-0 cost: 118\n"
     ]
    },
    {
     "data": {
      "image/png": "[encoded data removed]",
      "text/plain": [
       "<Figure size 432x288 with 1 Axes>"
      ]
     },
     "metadata": {
      "needs_background": "light"
     },
     "output_type": "display_data"
    }
   ],
   "source": [
    "import numpy as np\n",
    "import matplotlib.pyplot as plt\n",
    "import random\n",
    "import time\n",
    "\n",
    "class TSP:\n",
    "    \n",
    "    def TSPAlgorithm(self ,numberofCities):\n",
    "\n",
    "        self.numberofCities = numberofCities\n",
    "        \n",
    "        self.CreatDataSet()\n",
    "        self.visitedCites = list()\n",
    "        \n",
    "        self.startCity = random.randint(0,self.numberofCities-1)\n",
    "\n",
    "        self.visitedCites.append(self.startCity)\n",
    "\n",
    "        self.minTSP = 0\n",
    "        self.path = ''\n",
    "        \n",
    "        self.CalculatePath('',self.startCity,0)\n",
    "        \n",
    "        print(\"Number of Cities {} Stortest path: {} cost: {}\".format(self.numberofCities,self.path,self.minTSP))\n",
    "    \n",
    "    def CreatDataSet (self):\n",
    "        \n",
    "        self.cityMatrix = np.random.randint(25,size=(self.numberofCities, self.numberofCities))\n",
    "        self.cityMatrix = (self.cityMatrix + self.cityMatrix.T)\n",
    "        self.cityMatrix = self.cityMatrix - np.diag(self.cityMatrix.diagonal())\n",
    "        \n",
    "        self.citylist = list(range(0,self.numberofCities))\n",
    "    \n",
    "    def CalculatePath(self, path, currentCity, cost):\n",
    "        \n",
    "        cities = list(filter( lambda city : city not in self.visitedCites, self.citylist))\n",
    "        \n",
    "        path += str(currentCity) + \"-\";\n",
    "        if (len(cities)==0):\n",
    "            \n",
    "            cost += self.cityMatrix[currentCity, self.startCity];\n",
    "            path += str(self.startCity);\n",
    "            if(self.minTSP == 0 or self.minTSP > cost):\n",
    "                self.minTSP = cost\n",
    "                self.path = path\n",
    "            return;\n",
    "        \n",
    "        for nextCity in cities:\n",
    "            self.visitedCites.append(nextCity);\n",
    "            self.CalculatePath(path, nextCity,cost+ self.cityMatrix[currentCity, nextCity]);\n",
    "\n",
    "            del self.visitedCites[-1]\n",
    "                            \n",
    "obj = TSP()\n",
    "                                    \n",
    "citylist = range(2,11)\n",
    "executionTime = []\n",
    "                                    \n",
    "for i in citylist:\n",
    "    start = time.time()\n",
    "    obj.TSPAlgorithm(i)\n",
    "    end = time.time()\n",
    "    executionTime.append(end- start)\n",
    "                            \n",
    "plt.plot(citylist,executionTime)\n",
    "plt.xlabel(\"number of cities\")\n",
    "plt.ylabel(\"execution time(s)\")\n",
    "plt.title(\"TSP Calculation Performance\")\n",
    "plt.show()"
   ]
  },
  {
   "cell_type": "code",
   "execution_count": null,
   "metadata": {},
   "outputs": [],
   "source": []
  }
 ],
 "metadata": {
  "kernelspec": {
   "display_name": "Python 3",
   "language": "python",
   "name": "python3"
  },
  "language_info": {
   "codemirror_mode": {
    "name": "ipython",
    "version": 3
   },
   "file_extension": ".py",
   "mimetype": "text/x-python",
   "name": "python",
   "nbconvert_exporter": "python",
   "pygments_lexer": "ipython3",
   "version": "3.8.2"
  }
 },
 "nbformat": 4,
 "nbformat_minor": 4
}
