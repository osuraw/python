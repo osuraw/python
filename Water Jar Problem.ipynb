{
 "cells": [
  {
   "cell_type": "code",
   "execution_count": 10,
   "metadata": {},
   "outputs": [
    {
     "name": "stdout",
     "output_type": "stream",
     "text": [
      "Steps: \n",
      "0 0\n",
      "4 0\n",
      "4 3\n",
      "0 3\n",
      "3 0\n",
      "3 3\n",
      "4 2\n",
      "0 2\n"
     ]
    },
    {
     "data": {
      "text/plain": [
       "True"
      ]
     },
     "execution_count": 10,
     "metadata": {},
     "output_type": "execute_result"
    }
   ],
   "source": [
    "from collections import defaultdict \n",
    "\n",
    "class WaterJar:\n",
    "    \n",
    "    def __init__(self,bucket1,bucket2,volume):\n",
    "        self.bucket1 = bucket1\n",
    "        self.bucket2 = bucket2\n",
    "        self.volume = volume\n",
    "        self.visited = defaultdict(lambda:False) \n",
    "        print(\"Steps: \")\n",
    "        \n",
    "    def Steps(self,jar1, jar2):  \n",
    "\n",
    "        if (jar1 == self.volume and jar2 == 0) or (jar2 == self.volume and jar1 == 0): \n",
    "            print(jar1, jar2) \n",
    "            return True\n",
    "\n",
    "        if self.visited[(jar1, jar2)] == False: \n",
    "            print(jar1, jar2) \n",
    "\n",
    "            self.visited[(jar1, jar2)] = True\n",
    "\n",
    "            return (self.Steps(0, jar2) or\n",
    "                    self.Steps(jar1, 0) or\n",
    "                    self.Steps(self.bucket1, jar2) or\n",
    "                    self.Steps(jar1, self.bucket2) or\n",
    "                    self.Steps(jar1 + min(jar2, (self.bucket1-jar1)),jar2 - min(jar2, (self.bucket1-jar1))) or\n",
    "                    self.Steps(jar1 - min(jar1, (self.bucket2-jar2)),jar2 + min(jar1, (self.bucket2-jar2)))\n",
    "                   ) \n",
    "\n",
    "        else: \n",
    "            return False\n",
    "  \n",
    " \n",
    "WaterJar(4,3,2).Steps(0, 0) "
   ]
  },
  {
   "cell_type": "code",
   "execution_count": null,
   "metadata": {},
   "outputs": [],
   "source": []
  }
 ],
 "metadata": {
  "kernelspec": {
   "display_name": "Python 3",
   "language": "python",
   "name": "python3"
  },
  "language_info": {
   "codemirror_mode": {
    "name": "ipython",
    "version": 3
   },
   "file_extension": ".py",
   "mimetype": "text/x-python",
   "name": "python",
   "nbconvert_exporter": "python",
   "pygments_lexer": "ipython3",
   "version": "3.8.2"
  }
 },
 "nbformat": 4,
 "nbformat_minor": 4
}
